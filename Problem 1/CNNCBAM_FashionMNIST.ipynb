{
 "cells": [
  {
   "cell_type": "code",
   "execution_count": 7,
   "metadata": {
    "execution": {
     "iopub.execute_input": "2024-03-27T05:52:03.374655Z",
     "iopub.status.busy": "2024-03-27T05:52:03.373779Z",
     "iopub.status.idle": "2024-03-27T05:52:03.380923Z",
     "shell.execute_reply": "2024-03-27T05:52:03.380007Z",
     "shell.execute_reply.started": "2024-03-27T05:52:03.374621Z"
    }
   },
   "outputs": [],
   "source": [
    "import pandas as pd\n",
    "import numpy as np\n",
    "import os\n",
    "import torch\n",
    "import torch.nn as nn\n",
    "from torch.utils.data import DataLoader\n",
    "import torch.utils.data as Data\n",
    "from torchvision import transforms\n",
    "import torch.nn.functional as F\n",
    "import torch.optim as optim\n",
    "import matplotlib.pyplot as plt\n",
    "device = 'cuda' if torch.cuda.is_available() else 'cpu'"
   ]
  },
  {
   "cell_type": "code",
   "execution_count": 2,
   "metadata": {
    "execution": {
     "iopub.execute_input": "2024-03-27T05:49:09.908026Z",
     "iopub.status.busy": "2024-03-27T05:49:09.907448Z",
     "iopub.status.idle": "2024-03-27T05:49:09.913018Z",
     "shell.execute_reply": "2024-03-27T05:49:09.912148Z",
     "shell.execute_reply.started": "2024-03-27T05:49:09.907987Z"
    }
   },
   "outputs": [],
   "source": [
    "#hyperparameter\n",
    "BatchSize = 128\n",
    "lr = 0.001\n",
    "EPOCH = 10"
   ]
  },
  {
   "cell_type": "code",
   "execution_count": 3,
   "metadata": {
    "execution": {
     "iopub.execute_input": "2024-03-27T05:49:09.915914Z",
     "iopub.status.busy": "2024-03-27T05:49:09.914321Z",
     "iopub.status.idle": "2024-03-27T05:49:09.929783Z",
     "shell.execute_reply": "2024-03-27T05:49:09.928847Z",
     "shell.execute_reply.started": "2024-03-27T05:49:09.915874Z"
    }
   },
   "outputs": [],
   "source": [
    "def df_dataloader(df,BatchSize,is_shuffle=True):\n",
    "    df_target = torch.from_numpy(df['label'].values).float()\n",
    "    df_data = torch.from_numpy(((df.iloc[:,1:].values)/255.).reshape(-1,1,28,28)).float()\n",
    "    df = Data.TensorDataset(df_data,df_target)\n",
    "    df_dataloader = DataLoader(df,batch_size=BatchSize,shuffle=is_shuffle)\n",
    "    \n",
    "    return df_dataloader"
   ]
  },
  {
   "cell_type": "code",
   "execution_count": 8,
   "metadata": {
    "execution": {
     "iopub.execute_input": "2024-03-27T05:52:06.333976Z",
     "iopub.status.busy": "2024-03-27T05:52:06.333612Z",
     "iopub.status.idle": "2024-03-27T05:52:13.499410Z",
     "shell.execute_reply": "2024-03-27T05:52:13.498406Z",
     "shell.execute_reply.started": "2024-03-27T05:52:06.333947Z"
    }
   },
   "outputs": [],
   "source": [
    "train = pd.read_csv('/kaggle/input/fashionmnist/fashion-mnist_train.csv')\n",
    "test = pd.read_csv('/kaggle/input/fashionmnist/fashion-mnist_test.csv')\n",
    "train_dataloader = df_dataloader(train,BatchSize)\n",
    "test_dataloader = df_dataloader(test,BatchSize)"
   ]
  },
  {
   "cell_type": "code",
   "execution_count": 10,
   "metadata": {
    "execution": {
     "iopub.execute_input": "2024-03-27T05:52:29.625128Z",
     "iopub.status.busy": "2024-03-27T05:52:29.624188Z",
     "iopub.status.idle": "2024-03-27T05:52:29.630016Z",
     "shell.execute_reply": "2024-03-27T05:52:29.628737Z",
     "shell.execute_reply.started": "2024-03-27T05:52:29.625087Z"
    }
   },
   "outputs": [],
   "source": [
    "class_names = ['T_shirt/top', 'Trouser', 'Pullover', 'Dress', 'Coat', \n",
    "               'Sandal', 'Shirt', 'Sneaker', 'Bag', 'Ankle boot']"
   ]
  },
  {
   "cell_type": "code",
   "execution_count": 11,
   "metadata": {
    "execution": {
     "iopub.execute_input": "2024-03-27T05:52:29.635194Z",
     "iopub.status.busy": "2024-03-27T05:52:29.634577Z",
     "iopub.status.idle": "2024-03-27T05:52:29.650841Z",
     "shell.execute_reply": "2024-03-27T05:52:29.649819Z",
     "shell.execute_reply.started": "2024-03-27T05:52:29.635164Z"
    }
   },
   "outputs": [],
   "source": [
    "class ChannelAttention(nn.Module):\n",
    "    def __init__(self,input_nc,rotio = 16):\n",
    "        super().__init__()\n",
    "        self.avgpool = nn.AdaptiveAvgPool2d(1)\n",
    "        self.maxpool = nn.AdaptiveMaxPool2d(1)\n",
    "        self.share_mlp = nn.Sequential(nn.Conv2d(in_channels=input_nc,out_channels=input_nc//rotio,kernel_size=1,bias=False),\n",
    "                                      nn.ReLU(inplace=True),\n",
    "                                      nn.Conv2d(in_channels=input_nc//rotio,out_channels=input_nc,kernel_size=1,bias=False))\n",
    "        self.sigmoid = nn.Sigmoid()\n",
    "        \n",
    "    def forward(self,x):\n",
    "        avg_x = self.share_mlp(self.avgpool(x))\n",
    "        max_x = self.share_mlp(self.maxpool(x))\n",
    "        return self.sigmoid(avg_x+max_x)\n",
    "\n",
    "\n",
    "class SpatialAttention(nn.Module):\n",
    "    def __init__(self,kernel=7):\n",
    "        super().__init__()\n",
    "        assert kernel in (3,7),\"Kernel size must be in 3 or 7\"\n",
    "        padding = 1 if kernel == 3 else 3\n",
    "        self.cnn = nn.Conv2d(2,1,kernel_size=kernel,padding=padding,bias=False)\n",
    "        self.sigmoid = nn.Sigmoid()\n",
    "    def forward(self,x):\n",
    "        avg_out = torch.mean(x,dim=1,keepdim=True)\n",
    "        max_out = torch.max(x,dim=1,keepdim=True).values\n",
    "        x = torch.cat([avg_out,max_out],dim=1)\n",
    "        x = self.cnn(x)\n",
    "        return self.sigmoid(x)\n",
    "    \n",
    "class cbam(nn.Module):\n",
    "    def __init__(self,input_nc):\n",
    "        super().__init__()\n",
    "        self.ca = ChannelAttention(input_nc)\n",
    "        self.sa = SpatialAttention()\n",
    "        \n",
    "    def forward(self,x):\n",
    "        x = self.ca(x) * x\n",
    "        x = self.sa(x) * x\n",
    "        return x\n",
    "    \n",
    "    def get_spatial(self,x):\n",
    "        return self.sa(x)"
   ]
  },
  {
   "cell_type": "code",
   "execution_count": 12,
   "metadata": {
    "execution": {
     "iopub.execute_input": "2024-03-27T05:52:29.652884Z",
     "iopub.status.busy": "2024-03-27T05:52:29.652566Z",
     "iopub.status.idle": "2024-03-27T05:52:29.664237Z",
     "shell.execute_reply": "2024-03-27T05:52:29.663384Z",
     "shell.execute_reply.started": "2024-03-27T05:52:29.652822Z"
    }
   },
   "outputs": [],
   "source": [
    "class Net(nn.Module):\n",
    "    def __init__(self,is_cbam = True):\n",
    "        super().__init__()\n",
    "        self.is_cbam = is_cbam\n",
    "        self.cnn1 = nn.Conv2d(1,128,3,1,1)\n",
    "        self.relu1 = nn.ReLU(True)\n",
    "        self.maxpool1 = nn.MaxPool2d(2)\n",
    "        self.cnn2 = nn.Conv2d(128,64,3,1,1)\n",
    "        self.relu2 = nn.ReLU(True)\n",
    "        self.maxpool2 = nn.MaxPool2d(2)\n",
    "        self.cbam = cbam(128)\n",
    "        self.linear = nn.Linear(64*7*7,10)\n",
    "    \n",
    "    def forward(self,x):\n",
    "        x = self.relu1(self.cnn1(x))\n",
    "        x = self.maxpool1(x)\n",
    "        if self.is_cbam:\n",
    "            x = self.cbam(x)\n",
    "            spatial_mask = self.cbam.get_spatial(x)\n",
    "        x = self.relu2(self.cnn2(x))\n",
    "        x = self.maxpool2(x)\n",
    "        x = self.linear(x.view(-1,64*7*7))\n",
    "        return x,spatial_mask"
   ]
  },
  {
   "cell_type": "code",
   "execution_count": 13,
   "metadata": {
    "execution": {
     "iopub.execute_input": "2024-03-27T05:52:29.665509Z",
     "iopub.status.busy": "2024-03-27T05:52:29.665245Z",
     "iopub.status.idle": "2024-03-27T05:52:33.155422Z",
     "shell.execute_reply": "2024-03-27T05:52:33.154413Z",
     "shell.execute_reply.started": "2024-03-27T05:52:29.665483Z"
    }
   },
   "outputs": [],
   "source": [
    "net = Net(is_cbam=True).to(device)\n",
    "optimizer = optim.Adam(net.parameters(),lr = lr)\n",
    "loss_fn = nn.CrossEntropyLoss()"
   ]
  },
  {
   "cell_type": "code",
   "execution_count": 14,
   "metadata": {
    "execution": {
     "iopub.execute_input": "2024-03-27T05:52:33.157871Z",
     "iopub.status.busy": "2024-03-27T05:52:33.157512Z",
     "iopub.status.idle": "2024-03-27T05:52:33.168991Z",
     "shell.execute_reply": "2024-03-27T05:52:33.168091Z",
     "shell.execute_reply.started": "2024-03-27T05:52:33.157828Z"
    }
   },
   "outputs": [],
   "source": [
    "def train_fn(model,optimizer,loader,loss_fn):\n",
    "    model.train()\n",
    "    for batch,(x,y) in enumerate(loader):\n",
    "        x = x.to(device)\n",
    "        y = y.to(device)\n",
    "        pred,_ = model(x)\n",
    "        loss = loss_fn(pred,y.long())\n",
    "        optimizer.zero_grad()\n",
    "        loss.backward()\n",
    "        optimizer.step()\n",
    "        \n",
    "        loss_pred = loss.item()\n",
    "        \n",
    "        if batch % 50 == 0:\n",
    "            print(f\"{batch*len(x)}/{len(loader.dataset)}   Loss:{loss_pred}\")\n",
    "\n",
    "def valid_fn(model,loader,loss_fn):\n",
    "    model.eval()\n",
    "    test_loss = 0\n",
    "    correct = 0\n",
    "    with torch.no_grad():\n",
    "        for x,y in loader:\n",
    "            x = x.to(device)\n",
    "            y = y.to(device)\n",
    "            valid_pred,_ = model(x)\n",
    "            test_loss += loss_fn(valid_pred,y.long()).item()\n",
    "            correct += (valid_pred.argmax(1)).eq(y).sum()\n",
    "    \n",
    "    test_loss/= len(loader.dataset)\n",
    "    print(f\"\\nTest Result: Average Loss = {test_loss}, Accuracy = {correct}/{len(loader.dataset)} ({(correct/len(loader.dataset))*100}%)\")"
   ]
  },
  {
   "cell_type": "code",
   "execution_count": 15,
   "metadata": {
    "execution": {
     "iopub.execute_input": "2024-03-27T05:52:33.170591Z",
     "iopub.status.busy": "2024-03-27T05:52:33.170251Z",
     "iopub.status.idle": "2024-03-27T05:53:57.779815Z",
     "shell.execute_reply": "2024-03-27T05:53:57.778803Z",
     "shell.execute_reply.started": "2024-03-27T05:52:33.170557Z"
    }
   },
   "outputs": [
    {
     "name": "stdout",
     "output_type": "stream",
     "text": [
      "\n",
      "Epoch: 1\n",
      "0/60000   Loss:2.3027820587158203\n",
      "6400/60000   Loss:0.9047666788101196\n",
      "12800/60000   Loss:0.5710929036140442\n",
      "19200/60000   Loss:0.3339461088180542\n",
      "25600/60000   Loss:0.423809289932251\n",
      "32000/60000   Loss:0.4011962115764618\n",
      "38400/60000   Loss:0.4907625615596771\n",
      "44800/60000   Loss:0.3648237884044647\n",
      "51200/60000   Loss:0.3380748927593231\n",
      "57600/60000   Loss:0.2888743281364441\n",
      "\n",
      "Test Result: Average Loss = 0.0027547064200043677, Accuracy = 8795/10000 (87.94999694824219%)\n",
      "\n",
      "Epoch: 2\n",
      "0/60000   Loss:0.3701173961162567\n",
      "6400/60000   Loss:0.2976725697517395\n",
      "12800/60000   Loss:0.28099820017814636\n",
      "19200/60000   Loss:0.30544421076774597\n",
      "25600/60000   Loss:0.29877766966819763\n",
      "32000/60000   Loss:0.3416312336921692\n",
      "38400/60000   Loss:0.3143169581890106\n",
      "44800/60000   Loss:0.24030272662639618\n",
      "51200/60000   Loss:0.3140158951282501\n",
      "57600/60000   Loss:0.3208971917629242\n",
      "\n",
      "Test Result: Average Loss = 0.0024399831756949423, Accuracy = 8891/10000 (88.90999603271484%)\n",
      "\n",
      "Epoch: 3\n",
      "0/60000   Loss:0.19854837656021118\n",
      "6400/60000   Loss:0.30982154607772827\n",
      "12800/60000   Loss:0.27357834577560425\n",
      "19200/60000   Loss:0.211146742105484\n",
      "25600/60000   Loss:0.17296603322029114\n",
      "32000/60000   Loss:0.282691091299057\n",
      "38400/60000   Loss:0.3278661072254181\n",
      "44800/60000   Loss:0.2054699957370758\n",
      "51200/60000   Loss:0.23217856884002686\n",
      "57600/60000   Loss:0.41376793384552\n",
      "\n",
      "Test Result: Average Loss = 0.0020453936964273454, Accuracy = 9106/10000 (91.05999755859375%)\n",
      "\n",
      "Epoch: 4\n",
      "0/60000   Loss:0.332477867603302\n",
      "6400/60000   Loss:0.21897679567337036\n",
      "12800/60000   Loss:0.2737715542316437\n",
      "19200/60000   Loss:0.2524735629558563\n",
      "25600/60000   Loss:0.19183996319770813\n",
      "32000/60000   Loss:0.2612466812133789\n",
      "38400/60000   Loss:0.2329636514186859\n",
      "44800/60000   Loss:0.22745239734649658\n",
      "51200/60000   Loss:0.2924894690513611\n",
      "57600/60000   Loss:0.13991889357566833\n",
      "\n",
      "Test Result: Average Loss = 0.0019776110768318176, Accuracy = 9106/10000 (91.05999755859375%)\n",
      "\n",
      "Epoch: 5\n",
      "0/60000   Loss:0.20715473592281342\n",
      "6400/60000   Loss:0.19895225763320923\n",
      "12800/60000   Loss:0.24272070825099945\n",
      "19200/60000   Loss:0.19814787805080414\n",
      "25600/60000   Loss:0.16360068321228027\n",
      "32000/60000   Loss:0.15177829563617706\n",
      "38400/60000   Loss:0.3202020227909088\n",
      "44800/60000   Loss:0.20754364132881165\n",
      "51200/60000   Loss:0.20978888869285583\n",
      "57600/60000   Loss:0.27203577756881714\n",
      "\n",
      "Test Result: Average Loss = 0.0018778107330203056, Accuracy = 9173/10000 (91.72999572753906%)\n",
      "\n",
      "Epoch: 6\n",
      "0/60000   Loss:0.1201908066868782\n",
      "6400/60000   Loss:0.2923186123371124\n",
      "12800/60000   Loss:0.23433634638786316\n",
      "19200/60000   Loss:0.21541358530521393\n",
      "25600/60000   Loss:0.2201744019985199\n",
      "32000/60000   Loss:0.2358151376247406\n",
      "38400/60000   Loss:0.2416384071111679\n",
      "44800/60000   Loss:0.15157823264598846\n",
      "51200/60000   Loss:0.2049507349729538\n",
      "57600/60000   Loss:0.11600108444690704\n",
      "\n",
      "Test Result: Average Loss = 0.0017904387712478638, Accuracy = 9176/10000 (91.75999450683594%)\n",
      "\n",
      "Epoch: 7\n",
      "0/60000   Loss:0.20260798931121826\n",
      "6400/60000   Loss:0.15153829753398895\n",
      "12800/60000   Loss:0.11453208327293396\n",
      "19200/60000   Loss:0.26190850138664246\n",
      "25600/60000   Loss:0.13707692921161652\n",
      "32000/60000   Loss:0.23573066294193268\n",
      "38400/60000   Loss:0.2019483894109726\n",
      "44800/60000   Loss:0.25211453437805176\n",
      "51200/60000   Loss:0.26673516631126404\n",
      "57600/60000   Loss:0.1818881332874298\n",
      "\n",
      "Test Result: Average Loss = 0.0017493909634649753, Accuracy = 9217/10000 (92.16999816894531%)\n",
      "\n",
      "Epoch: 8\n",
      "0/60000   Loss:0.23248066008090973\n",
      "6400/60000   Loss:0.23116964101791382\n",
      "12800/60000   Loss:0.20445364713668823\n",
      "19200/60000   Loss:0.1849094182252884\n",
      "25600/60000   Loss:0.15853910148143768\n",
      "32000/60000   Loss:0.13992875814437866\n",
      "38400/60000   Loss:0.12308843433856964\n",
      "44800/60000   Loss:0.13711540400981903\n",
      "51200/60000   Loss:0.26562368869781494\n",
      "57600/60000   Loss:0.11489775776863098\n",
      "\n",
      "Test Result: Average Loss = 0.0017354057841002942, Accuracy = 9207/10000 (92.06999206542969%)\n",
      "\n",
      "Epoch: 9\n",
      "0/60000   Loss:0.10185018926858902\n",
      "6400/60000   Loss:0.14079193770885468\n",
      "12800/60000   Loss:0.20176266133785248\n",
      "19200/60000   Loss:0.23943310976028442\n",
      "25600/60000   Loss:0.16926121711730957\n",
      "32000/60000   Loss:0.20277534425258636\n",
      "38400/60000   Loss:0.2582021951675415\n",
      "44800/60000   Loss:0.21005189418792725\n",
      "51200/60000   Loss:0.17293015122413635\n",
      "57600/60000   Loss:0.2389589250087738\n",
      "\n",
      "Test Result: Average Loss = 0.0017933491051197051, Accuracy = 9176/10000 (91.75999450683594%)\n",
      "\n",
      "Epoch: 10\n",
      "0/60000   Loss:0.18169260025024414\n",
      "6400/60000   Loss:0.16937315464019775\n",
      "12800/60000   Loss:0.20493559539318085\n",
      "19200/60000   Loss:0.10598660260438919\n",
      "25600/60000   Loss:0.09647072106599808\n",
      "32000/60000   Loss:0.18683014810085297\n",
      "38400/60000   Loss:0.1466844230890274\n",
      "44800/60000   Loss:0.2101750671863556\n",
      "51200/60000   Loss:0.21308480203151703\n",
      "57600/60000   Loss:0.09744154661893845\n",
      "\n",
      "Test Result: Average Loss = 0.0017749460712075233, Accuracy = 9235/10000 (92.3499984741211%)\n"
     ]
    }
   ],
   "source": [
    "for epoch in range(EPOCH):\n",
    "    print(f'\\nEpoch: {epoch+1}')\n",
    "    train_fn(net,optimizer,train_dataloader,loss_fn)\n",
    "    valid_fn(net,test_dataloader,loss_fn)"
   ]
  },
  {
   "cell_type": "code",
   "execution_count": null,
   "metadata": {
    "execution": {
     "iopub.status.busy": "2024-03-27T05:53:57.916416Z",
     "iopub.status.idle": "2024-03-27T05:53:57.916791Z",
     "shell.execute_reply": "2024-03-27T05:53:57.916618Z",
     "shell.execute_reply.started": "2024-03-27T05:53:57.916602Z"
    }
   },
   "outputs": [],
   "source": []
  },
  {
   "cell_type": "code",
   "execution_count": null,
   "metadata": {
    "execution": {
     "iopub.status.busy": "2024-03-27T05:53:57.919016Z",
     "iopub.status.idle": "2024-03-27T05:53:57.919607Z",
     "shell.execute_reply": "2024-03-27T05:53:57.919370Z",
     "shell.execute_reply.started": "2024-03-27T05:53:57.919346Z"
    }
   },
   "outputs": [],
   "source": []
  },
  {
   "cell_type": "code",
   "execution_count": null,
   "metadata": {},
   "outputs": [],
   "source": []
  }
 ],
 "metadata": {
  "kaggle": {
   "accelerator": "nvidiaTeslaT4",
   "dataSources": [
    {
     "datasetId": 2243,
     "sourceId": 9243,
     "sourceType": "datasetVersion"
    }
   ],
   "dockerImageVersionId": 30235,
   "isGpuEnabled": true,
   "isInternetEnabled": true,
   "language": "python",
   "sourceType": "notebook"
  },
  "kernelspec": {
   "display_name": "Python 3 (ipykernel)",
   "language": "python",
   "name": "python3"
  },
  "language_info": {
   "codemirror_mode": {
    "name": "ipython",
    "version": 3
   },
   "file_extension": ".py",
   "mimetype": "text/x-python",
   "name": "python",
   "nbconvert_exporter": "python",
   "pygments_lexer": "ipython3",
   "version": "3.10.12"
  }
 },
 "nbformat": 4,
 "nbformat_minor": 4
}
