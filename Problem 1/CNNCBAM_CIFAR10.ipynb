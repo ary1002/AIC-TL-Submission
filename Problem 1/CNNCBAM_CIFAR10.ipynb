{
 "cells": [
  {
   "cell_type": "code",
   "execution_count": 11,
   "metadata": {
    "execution": {
     "iopub.execute_input": "2024-03-31T07:34:12.178858Z",
     "iopub.status.busy": "2024-03-31T07:34:12.178058Z",
     "iopub.status.idle": "2024-03-31T07:34:12.185973Z",
     "shell.execute_reply": "2024-03-31T07:34:12.185028Z",
     "shell.execute_reply.started": "2024-03-31T07:34:12.178820Z"
    }
   },
   "outputs": [],
   "source": [
    "import pandas as pd\n",
    "import numpy as np\n",
    "import os\n",
    "import torch\n",
    "import torch.nn as nn\n",
    "import torchvision\n",
    "from torch.utils.data import DataLoader\n",
    "import torch.utils.data as Data\n",
    "from torchvision import transforms\n",
    "import torch.nn.functional as F\n",
    "import torch.optim as optim\n",
    "import matplotlib.pyplot as plt\n",
    "device = 'cuda' if torch.cuda.is_available() else 'cpu'"
   ]
  },
  {
   "cell_type": "code",
   "execution_count": 12,
   "metadata": {
    "execution": {
     "iopub.execute_input": "2024-03-31T07:34:12.188399Z",
     "iopub.status.busy": "2024-03-31T07:34:12.188065Z",
     "iopub.status.idle": "2024-03-31T07:34:12.205783Z",
     "shell.execute_reply": "2024-03-31T07:34:12.204874Z",
     "shell.execute_reply.started": "2024-03-31T07:34:12.188371Z"
    }
   },
   "outputs": [],
   "source": [
    "#hyperparameter\n",
    "BatchSize = 128\n",
    "lr = 0.001\n",
    "EPOCH = 10"
   ]
  },
  {
   "cell_type": "code",
   "execution_count": 13,
   "metadata": {
    "execution": {
     "iopub.execute_input": "2024-03-31T07:34:12.207093Z",
     "iopub.status.busy": "2024-03-31T07:34:12.206798Z",
     "iopub.status.idle": "2024-03-31T07:34:12.215228Z",
     "shell.execute_reply": "2024-03-31T07:34:12.214393Z",
     "shell.execute_reply.started": "2024-03-31T07:34:12.207059Z"
    }
   },
   "outputs": [],
   "source": [
    "# def df_dataloader(df,BatchSize,is_shuffle=True):\n",
    "#     df_target = torch.from_numpy(df['label'].values).float()\n",
    "#     df_data = torch.from_numpy(((df.iloc[:,1:].values)/255.).reshape(-1,1,28,28)).float()\n",
    "#     df = Data.TensorDataset(df_data,df_target)\n",
    "#     df_dataloader = DataLoader(df,batch_size=BatchSize,shuffle=is_shuffle)\n",
    "    \n",
    "#     return df_dataloader"
   ]
  },
  {
   "cell_type": "code",
   "execution_count": 14,
   "metadata": {
    "execution": {
     "iopub.execute_input": "2024-03-31T07:34:12.217082Z",
     "iopub.status.busy": "2024-03-31T07:34:12.216791Z",
     "iopub.status.idle": "2024-03-31T07:34:13.161861Z",
     "shell.execute_reply": "2024-03-31T07:34:13.160831Z",
     "shell.execute_reply.started": "2024-03-31T07:34:12.217055Z"
    }
   },
   "outputs": [
    {
     "name": "stdout",
     "output_type": "stream",
     "text": [
      "Files already downloaded and verified\n"
     ]
    }
   ],
   "source": [
    "mean = (0.49139968, 0.48215827 ,0.44653124)\n",
    "std = (0.24703233, 0.24348505, 0.26158768)\n",
    "transform_train = transforms.Compose([\n",
    "    #transforms.ToPILImage(),\n",
    "    transforms.RandomCrop(32, padding=4),\n",
    "    transforms.RandomHorizontalFlip(),\n",
    "    transforms.RandomRotation(15),\n",
    "    transforms.ToTensor(),\n",
    "    transforms.Normalize(mean, std)\n",
    "])\n",
    "    #CIFAR10_train\n",
    "CIFAR10_training = torchvision.datasets.CIFAR10(root='./data', train=True, download=True, transform=transform_train)\n",
    "train_dataloader = DataLoader(CIFAR10_training, shuffle=True, num_workers=2, batch_size=BatchSize)"
   ]
  },
  {
   "cell_type": "code",
   "execution_count": 15,
   "metadata": {
    "execution": {
     "iopub.execute_input": "2024-03-31T07:34:13.164251Z",
     "iopub.status.busy": "2024-03-31T07:34:13.163917Z",
     "iopub.status.idle": "2024-03-31T07:34:13.861973Z",
     "shell.execute_reply": "2024-03-31T07:34:13.860945Z",
     "shell.execute_reply.started": "2024-03-31T07:34:13.164222Z"
    }
   },
   "outputs": [
    {
     "name": "stdout",
     "output_type": "stream",
     "text": [
      "Files already downloaded and verified\n"
     ]
    }
   ],
   "source": [
    "transform_test = transforms.Compose([\n",
    "        transforms.ToTensor(),\n",
    "        transforms.Normalize(mean, std)\n",
    "    ])\n",
    "    #CIFAR10_test = CIFAR10Test(path, transform=transform_test)\n",
    "CIFAR10_test = torchvision.datasets.CIFAR10(root='./data', train=False, download=True, transform=transform_test)\n",
    "test_dataloader = DataLoader(CIFAR10_test, shuffle=True, num_workers=2, batch_size=BatchSize)"
   ]
  },
  {
   "cell_type": "code",
   "execution_count": null,
   "metadata": {},
   "outputs": [],
   "source": []
  },
  {
   "cell_type": "code",
   "execution_count": 16,
   "metadata": {
    "execution": {
     "iopub.execute_input": "2024-03-31T07:34:13.864014Z",
     "iopub.status.busy": "2024-03-31T07:34:13.863648Z",
     "iopub.status.idle": "2024-03-31T07:34:13.879472Z",
     "shell.execute_reply": "2024-03-31T07:34:13.878340Z",
     "shell.execute_reply.started": "2024-03-31T07:34:13.863963Z"
    }
   },
   "outputs": [],
   "source": [
    "class ChannelAttention(nn.Module):\n",
    "    def __init__(self,input_nc,rotio = 16):\n",
    "        super().__init__()\n",
    "        self.avgpool = nn.AdaptiveAvgPool2d(1)\n",
    "        self.maxpool = nn.AdaptiveMaxPool2d(1)\n",
    "        self.share_mlp = nn.Sequential(nn.Conv2d(in_channels=input_nc,out_channels=input_nc//rotio,kernel_size=1,bias=False),\n",
    "                                      nn.ReLU(inplace=True),\n",
    "                                      nn.Conv2d(in_channels=input_nc//rotio,out_channels=input_nc,kernel_size=1,bias=False))\n",
    "        self.sigmoid = nn.Sigmoid()\n",
    "        \n",
    "    def forward(self,x):\n",
    "        avg_x = self.share_mlp(self.avgpool(x))\n",
    "        max_x = self.share_mlp(self.maxpool(x))\n",
    "        return self.sigmoid(avg_x+max_x)\n",
    "\n",
    "\n",
    "class SpatialAttention(nn.Module):\n",
    "    def __init__(self,kernel=7):\n",
    "        super().__init__()\n",
    "        assert kernel in (3,7),\"Kernel size must be in 3 or 7\"\n",
    "        padding = 1 if kernel == 3 else 3\n",
    "        self.cnn = nn.Conv2d(2,1,kernel_size=kernel,padding=padding,bias=False)\n",
    "        self.sigmoid = nn.Sigmoid()\n",
    "    def forward(self,x):\n",
    "        avg_out = torch.mean(x,dim=1,keepdim=True)\n",
    "        max_out = torch.max(x,dim=1,keepdim=True).values\n",
    "        x = torch.cat([avg_out,max_out],dim=1)\n",
    "        x = self.cnn(x)\n",
    "        return self.sigmoid(x)\n",
    "    \n",
    "class cbam(nn.Module):\n",
    "    def __init__(self,input_nc):\n",
    "        super().__init__()\n",
    "        self.ca = ChannelAttention(input_nc)\n",
    "        self.sa = SpatialAttention()\n",
    "        \n",
    "    def forward(self,x):\n",
    "        x = self.ca(x) * x\n",
    "        x = self.sa(x) * x\n",
    "        return x\n",
    "    \n",
    "    def get_spatial(self,x):\n",
    "        return self.sa(x)"
   ]
  },
  {
   "cell_type": "code",
   "execution_count": 17,
   "metadata": {
    "execution": {
     "iopub.execute_input": "2024-03-31T07:34:13.881898Z",
     "iopub.status.busy": "2024-03-31T07:34:13.881584Z",
     "iopub.status.idle": "2024-03-31T07:34:13.894799Z",
     "shell.execute_reply": "2024-03-31T07:34:13.893913Z",
     "shell.execute_reply.started": "2024-03-31T07:34:13.881863Z"
    }
   },
   "outputs": [],
   "source": [
    "class Net(nn.Module):\n",
    "    def __init__(self,is_cbam = True):\n",
    "        super().__init__()\n",
    "        self.is_cbam = is_cbam\n",
    "        self.cnn1 = nn.Conv2d(3,128,3,1,1)\n",
    "        self.relu1 = nn.ReLU(True)\n",
    "        self.maxpool1 = nn.MaxPool2d(2)\n",
    "        self.cnn2 = nn.Conv2d(128,64,3,1,1)\n",
    "        self.relu2 = nn.ReLU(True)\n",
    "        self.maxpool2 = nn.MaxPool2d(2)\n",
    "        self.cbam = cbam(128)\n",
    "        self.linear = nn.Linear(64*8*8,10)\n",
    "    \n",
    "    def forward(self,x):\n",
    "        x = self.relu1(self.cnn1(x))\n",
    "        x = self.maxpool1(x)\n",
    "        if self.is_cbam:\n",
    "            x = self.cbam(x)\n",
    "            spatial_mask = self.cbam.get_spatial(x)\n",
    "        x = self.relu2(self.cnn2(x))\n",
    "        x = self.maxpool2(x)\n",
    "        x = self.linear(x.view(-1,64*8*8))\n",
    "        return x,spatial_mask"
   ]
  },
  {
   "cell_type": "code",
   "execution_count": 18,
   "metadata": {
    "execution": {
     "iopub.execute_input": "2024-03-31T07:34:13.896437Z",
     "iopub.status.busy": "2024-03-31T07:34:13.895933Z",
     "iopub.status.idle": "2024-03-31T07:34:13.917782Z",
     "shell.execute_reply": "2024-03-31T07:34:13.917034Z",
     "shell.execute_reply.started": "2024-03-31T07:34:13.896400Z"
    }
   },
   "outputs": [],
   "source": [
    "net = Net(is_cbam=True).to(device)\n",
    "optimizer = optim.Adam(net.parameters(),lr = lr)\n",
    "loss_fn = nn.CrossEntropyLoss()"
   ]
  },
  {
   "cell_type": "code",
   "execution_count": 19,
   "metadata": {
    "execution": {
     "iopub.execute_input": "2024-03-31T07:34:13.919831Z",
     "iopub.status.busy": "2024-03-31T07:34:13.918942Z",
     "iopub.status.idle": "2024-03-31T07:34:13.930391Z",
     "shell.execute_reply": "2024-03-31T07:34:13.929360Z",
     "shell.execute_reply.started": "2024-03-31T07:34:13.919794Z"
    }
   },
   "outputs": [],
   "source": [
    "def train_fn(model,optimizer,loader,loss_fn):\n",
    "    model.train()\n",
    "    for batch,(x,y) in enumerate(loader):\n",
    "        x = x.to(device)\n",
    "        y = y.to(device)\n",
    "        pred,_ = model(x)\n",
    "        loss = loss_fn(pred,y.long())\n",
    "        optimizer.zero_grad()\n",
    "        loss.backward()\n",
    "        optimizer.step()\n",
    "        \n",
    "        loss_pred = loss.item()\n",
    "        \n",
    "        if batch % 50 == 0:\n",
    "            print(f\"{batch*len(x)}/{len(loader.dataset)}   Loss:{loss_pred}\")\n",
    "\n",
    "def valid_fn(model,loader,loss_fn):\n",
    "    model.eval()\n",
    "    test_loss = 0\n",
    "    correct = 0\n",
    "    with torch.no_grad():\n",
    "        for x,y in loader:\n",
    "            x = x.to(device)\n",
    "            y = y.to(device)\n",
    "            valid_pred,_ = model(x)\n",
    "            test_loss += loss_fn(valid_pred,y.long()).item()\n",
    "            correct += (valid_pred.argmax(1)).eq(y).sum()\n",
    "    \n",
    "    test_loss/= len(loader.dataset)\n",
    "    print(f\"\\nTest Result: Average Loss = {test_loss}, Accuracy = {correct}/{len(loader.dataset)} ({(correct/len(loader.dataset))*100}%)\")"
   ]
  },
  {
   "cell_type": "code",
   "execution_count": 20,
   "metadata": {
    "execution": {
     "iopub.execute_input": "2024-03-31T07:34:13.931941Z",
     "iopub.status.busy": "2024-03-31T07:34:13.931598Z",
     "iopub.status.idle": "2024-03-31T07:37:15.566356Z",
     "shell.execute_reply": "2024-03-31T07:37:15.565068Z",
     "shell.execute_reply.started": "2024-03-31T07:34:13.931906Z"
    }
   },
   "outputs": [
    {
     "name": "stdout",
     "output_type": "stream",
     "text": [
      "\n",
      "Epoch: 1\n",
      "0/50000   Loss:2.3038597106933594\n",
      "6400/50000   Loss:1.9032351970672607\n",
      "12800/50000   Loss:1.731877088546753\n",
      "19200/50000   Loss:1.6069684028625488\n",
      "25600/50000   Loss:1.576959252357483\n",
      "32000/50000   Loss:1.642452359199524\n",
      "38400/50000   Loss:1.541582465171814\n",
      "44800/50000   Loss:1.6022554636001587\n",
      "\n",
      "Test Result: Average Loss = 0.010104310119152068, Accuracy = 5452/10000 (54.52000045776367%)\n",
      "\n",
      "Epoch: 2\n",
      "0/50000   Loss:1.3946505784988403\n",
      "6400/50000   Loss:1.5028800964355469\n",
      "12800/50000   Loss:1.4921669960021973\n",
      "19200/50000   Loss:1.4938938617706299\n",
      "25600/50000   Loss:1.4751598834991455\n",
      "32000/50000   Loss:1.2979334592819214\n",
      "38400/50000   Loss:1.2789199352264404\n",
      "44800/50000   Loss:1.2518129348754883\n",
      "\n",
      "Test Result: Average Loss = 0.009295875185728074, Accuracy = 5759/10000 (57.589996337890625%)\n",
      "\n",
      "Epoch: 3\n",
      "0/50000   Loss:1.2284200191497803\n",
      "6400/50000   Loss:1.1554309129714966\n",
      "12800/50000   Loss:1.2451472282409668\n",
      "19200/50000   Loss:1.1787290573120117\n",
      "25600/50000   Loss:1.1257513761520386\n",
      "32000/50000   Loss:1.2805651426315308\n",
      "38400/50000   Loss:1.144307017326355\n",
      "44800/50000   Loss:1.1919127702713013\n",
      "\n",
      "Test Result: Average Loss = 0.008258305579423905, Accuracy = 6340/10000 (63.400001525878906%)\n",
      "\n",
      "Epoch: 4\n",
      "0/50000   Loss:1.273499608039856\n",
      "6400/50000   Loss:1.2229264974594116\n",
      "12800/50000   Loss:1.1389073133468628\n",
      "19200/50000   Loss:1.111965298652649\n",
      "25600/50000   Loss:1.2212693691253662\n",
      "32000/50000   Loss:1.3539268970489502\n",
      "38400/50000   Loss:1.1397212743759155\n",
      "44800/50000   Loss:1.208484172821045\n",
      "\n",
      "Test Result: Average Loss = 0.007765519994497299, Accuracy = 6519/10000 (65.19000244140625%)\n",
      "\n",
      "Epoch: 5\n",
      "0/50000   Loss:0.9276348948478699\n",
      "6400/50000   Loss:1.2490507364273071\n",
      "12800/50000   Loss:1.1679035425186157\n",
      "19200/50000   Loss:1.160422921180725\n",
      "25600/50000   Loss:1.0015356540679932\n",
      "32000/50000   Loss:1.0457161664962769\n",
      "38400/50000   Loss:1.1935261487960815\n",
      "44800/50000   Loss:1.086759328842163\n",
      "\n",
      "Test Result: Average Loss = 0.0073444530248641966, Accuracy = 6773/10000 (67.72999572753906%)\n",
      "\n",
      "Epoch: 6\n",
      "0/50000   Loss:1.1459766626358032\n",
      "6400/50000   Loss:1.1260147094726562\n",
      "12800/50000   Loss:1.0085760354995728\n",
      "19200/50000   Loss:1.1270021200180054\n",
      "25600/50000   Loss:1.2705127000808716\n",
      "32000/50000   Loss:1.049088716506958\n",
      "38400/50000   Loss:1.2296558618545532\n",
      "44800/50000   Loss:1.0550514459609985\n",
      "\n",
      "Test Result: Average Loss = 0.0070881062448024746, Accuracy = 6877/10000 (68.7699966430664%)\n",
      "\n",
      "Epoch: 7\n",
      "0/50000   Loss:0.9152045249938965\n",
      "6400/50000   Loss:1.1653858423233032\n",
      "12800/50000   Loss:1.0654807090759277\n",
      "19200/50000   Loss:0.8422562479972839\n",
      "25600/50000   Loss:1.0746347904205322\n",
      "32000/50000   Loss:1.033109188079834\n",
      "38400/50000   Loss:0.8788028359413147\n",
      "44800/50000   Loss:1.0935555696487427\n",
      "\n",
      "Test Result: Average Loss = 0.007041003578901291, Accuracy = 6884/10000 (68.83999633789062%)\n",
      "\n",
      "Epoch: 8\n",
      "0/50000   Loss:0.95650315284729\n",
      "6400/50000   Loss:1.075242042541504\n",
      "12800/50000   Loss:0.9336665272712708\n",
      "19200/50000   Loss:1.0224177837371826\n",
      "25600/50000   Loss:0.9930556416511536\n",
      "32000/50000   Loss:1.1325916051864624\n",
      "38400/50000   Loss:0.9970690608024597\n",
      "44800/50000   Loss:0.9238210320472717\n",
      "\n",
      "Test Result: Average Loss = 0.007080095374584198, Accuracy = 6960/10000 (69.5999984741211%)\n",
      "\n",
      "Epoch: 9\n",
      "0/50000   Loss:0.9189026951789856\n",
      "6400/50000   Loss:0.7801366448402405\n",
      "12800/50000   Loss:0.9244837760925293\n",
      "19200/50000   Loss:0.9275310039520264\n",
      "25600/50000   Loss:1.0356965065002441\n",
      "32000/50000   Loss:0.92927485704422\n",
      "38400/50000   Loss:1.0952075719833374\n",
      "44800/50000   Loss:1.1459059715270996\n",
      "\n",
      "Test Result: Average Loss = 0.006691246241331101, Accuracy = 7085/10000 (70.8499984741211%)\n",
      "\n",
      "Epoch: 10\n",
      "0/50000   Loss:0.9333516955375671\n",
      "6400/50000   Loss:1.0081387758255005\n",
      "12800/50000   Loss:0.9921795725822449\n",
      "19200/50000   Loss:0.9463077783584595\n",
      "25600/50000   Loss:0.9769929647445679\n",
      "32000/50000   Loss:1.0593221187591553\n",
      "38400/50000   Loss:0.9439927935600281\n",
      "44800/50000   Loss:1.0194308757781982\n",
      "\n",
      "Test Result: Average Loss = 0.006641246354579925, Accuracy = 7074/10000 (70.73999786376953%)\n"
     ]
    }
   ],
   "source": [
    "for epoch in range(EPOCH):\n",
    "    print(f'\\nEpoch: {epoch+1}')\n",
    "    train_fn(net,optimizer,train_dataloader,loss_fn)\n",
    "    valid_fn(net,test_dataloader,loss_fn)"
   ]
  },
  {
   "cell_type": "code",
   "execution_count": null,
   "metadata": {},
   "outputs": [],
   "source": []
  },
  {
   "cell_type": "code",
   "execution_count": null,
   "metadata": {},
   "outputs": [],
   "source": []
  },
  {
   "cell_type": "code",
   "execution_count": null,
   "metadata": {},
   "outputs": [],
   "source": []
  }
 ],
 "metadata": {
  "kaggle": {
   "accelerator": "nvidiaTeslaT4",
   "dataSources": [
    {
     "datasetId": 2243,
     "sourceId": 9243,
     "sourceType": "datasetVersion"
    }
   ],
   "dockerImageVersionId": 30235,
   "isGpuEnabled": true,
   "isInternetEnabled": true,
   "language": "python",
   "sourceType": "notebook"
  },
  "kernelspec": {
   "display_name": "Python 3 (ipykernel)",
   "language": "python",
   "name": "python3"
  },
  "language_info": {
   "codemirror_mode": {
    "name": "ipython",
    "version": 3
   },
   "file_extension": ".py",
   "mimetype": "text/x-python",
   "name": "python",
   "nbconvert_exporter": "python",
   "pygments_lexer": "ipython3",
   "version": "3.10.12"
  }
 },
 "nbformat": 4,
 "nbformat_minor": 4
}
